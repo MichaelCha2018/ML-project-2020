{
 "cells": [
  {
   "cell_type": "markdown",
   "metadata": {},
   "source": [
    "# Deep Q-Learning for Atari Games\n",
    "## Learning to play Space Invaders"
   ]
  },
  {
   "cell_type": "markdown",
   "metadata": {},
   "source": [
    "#### Load required packages"
   ]
  },
  {
   "cell_type": "code",
   "execution_count": 1,
   "metadata": {
    "ExecuteTime": {
     "end_time": "2020-06-10T00:39:04.335369Z",
     "start_time": "2020-06-10T00:39:02.568543Z"
    }
   },
   "outputs": [],
   "source": [
    "import random, math\n",
    "from collections import deque\n",
    "from IPython import display\n",
    "import matplotlib.pyplot as plt\n",
    "import pickle\n",
    "import logging\n",
    "%matplotlib inline\n",
    "\n",
    "import numpy as np\n",
    "import torch\n",
    "import torch.nn as nn\n",
    "import torch.autograd as autograd\n",
    "\n",
    "import gym\n",
    "from gym import wrappers\n",
    "import atari_wrappers"
   ]
  },
  {
   "cell_type": "markdown",
   "metadata": {},
   "source": [
    "#### Function for plotting average score during training"
   ]
  },
  {
   "cell_type": "code",
   "execution_count": 2,
   "metadata": {
    "ExecuteTime": {
     "end_time": "2020-06-10T00:39:04.970720Z",
     "start_time": "2020-06-10T00:39:04.961731Z"
    }
   },
   "outputs": [],
   "source": [
    "def plot_score(mean_episode_score, episode):\n",
    "        plt.figure()\n",
    "        plt.title('Average Score (over last 20 episodes): ' + str(int(mean_episode_score[-1])) + '  / Episode: ' + str(episode))\n",
    "        plt.xlabel('Episode (x 20)')\n",
    "        plt.ylabel('Average Score (over last 20 episodes)')\n",
    "        plt.plot(mean_episode_score)\n",
    "        display.display(plt.gcf())\n",
    "        display.clear_output(wait=True)\n",
    "        plt.pause(1e-6)"
   ]
  },
  {
   "cell_type": "markdown",
   "metadata": {},
   "source": [
    "#### Here we define the device for the PyTorch computation to run on"
   ]
  },
  {
   "cell_type": "code",
   "execution_count": 3,
   "metadata": {
    "ExecuteTime": {
     "end_time": "2020-06-10T00:39:08.530002Z",
     "start_time": "2020-06-10T00:39:07.640409Z"
    }
   },
   "outputs": [
    {
     "name": "stdout",
     "output_type": "stream",
     "text": [
      "True\n",
      "cuda\n"
     ]
    }
   ],
   "source": [
    "use_cuda = torch.cuda.is_available()\n",
    "device   = torch.device(\"cuda\" if use_cuda else \"cpu\")\n",
    "print(use_cuda)\n",
    "print(device)"
   ]
  },
  {
   "cell_type": "markdown",
   "metadata": {},
   "source": [
    "#### The agent neural network\n",
    "\n",
    "It is a common practice in PyTorch to define your neural network in a class that extends the **nn.Module** class. In this way, you define the neural network building blocks (usually layers) in the class initialization, and then define only the forward pass operations of your network in the **forward** method.\n",
    "\n",
    "Here we define a Convolutional Neural Network that builds a vector representation of the image information given by the game environment and then uses that vector representation in a feed forward network that computes a Q-value for each possible game action in the environment."
   ]
  },
  {
   "cell_type": "code",
   "execution_count": 4,
   "metadata": {
    "ExecuteTime": {
     "end_time": "2020-06-10T00:39:11.020286Z",
     "start_time": "2020-06-10T00:39:10.989372Z"
    }
   },
   "outputs": [],
   "source": [
    "class DQNModel(nn.Module):\n",
    "    def __init__(self):\n",
    "        super(DQNModel, self).__init__()\n",
    "        \n",
    "        self.conv = nn.Sequential(nn.Conv2d(4, 32, kernel_size=8, stride=4), nn.ReLU(),\n",
    "                                  nn.Conv2d(32, 64, kernel_size=4, stride=2), nn.ReLU(),\n",
    "                                  nn.Conv2d(64, 64, kernel_size=3, stride=1), nn.ReLU())\n",
    "        self.fc = nn.Sequential(nn.Linear(7 * 7 * 64, 512), nn.ReLU(), nn.Linear(512, n_actions))\n",
    "\n",
    "    def forward(self, obs):\n",
    "        obs = self.conv(obs)\n",
    "        obs = obs.view(obs.shape[0], obs.shape[1] * obs.shape[2] * obs.shape[3])\n",
    "        actions = self.fc(obs)\n",
    "        return actions"
   ]
  },
  {
   "cell_type": "markdown",
   "metadata": {},
   "source": [
    "#### Instantiate the game environment\n",
    "\n",
    "##### We use the environment for the classic Space Invaders game.\n",
    "\n",
    "##### Here we use the Deepmind's wrappers to rescale the image to 84 x 84, single gray scale channel, and stack 4 consecutive frames of the game as one observation."
   ]
  },
  {
   "cell_type": "code",
   "execution_count": 5,
   "metadata": {
    "ExecuteTime": {
     "end_time": "2020-06-10T00:39:13.264942Z",
     "start_time": "2020-06-10T00:39:12.126907Z"
    }
   },
   "outputs": [],
   "source": [
    "env = atari_wrappers.make_atari('RiverraidNoFrameskip-v4')\n",
    "env = atari_wrappers.wrap_deepmind(env, clip_rewards=False, frame_stack=True, pytorch_img=True)"
   ]
  },
  {
   "cell_type": "markdown",
   "metadata": {},
   "source": [
    "#### Observation and action spaces"
   ]
  },
  {
   "cell_type": "code",
   "execution_count": 12,
   "metadata": {
    "ExecuteTime": {
     "end_time": "2020-06-10T00:40:21.487538Z",
     "start_time": "2020-06-10T00:40:21.481554Z"
    }
   },
   "outputs": [
    {
     "data": {
      "text/plain": [
       "Box(4, 84, 84)"
      ]
     },
     "execution_count": 12,
     "metadata": {},
     "output_type": "execute_result"
    }
   ],
   "source": [
    "env.observation_space"
   ]
  },
  {
   "cell_type": "code",
   "execution_count": 13,
   "metadata": {
    "ExecuteTime": {
     "end_time": "2020-06-10T00:40:21.808076Z",
     "start_time": "2020-06-10T00:40:21.791116Z"
    }
   },
   "outputs": [
    {
     "data": {
      "text/plain": [
       "[0, 1, 2, 3, 4, 5, 6, 7, 8, 9, 10, 11, 12, 13, 14, 15, 16, 17]"
      ]
     },
     "execution_count": 13,
     "metadata": {},
     "output_type": "execute_result"
    }
   ],
   "source": [
    "action_space = [a for a in range(env.action_space.n)]\n",
    "action_space"
   ]
  },
  {
   "cell_type": "code",
   "execution_count": 14,
   "metadata": {
    "ExecuteTime": {
     "end_time": "2020-06-10T00:40:21.997689Z",
     "start_time": "2020-06-10T00:40:21.989708Z"
    }
   },
   "outputs": [
    {
     "data": {
      "text/plain": [
       "['NOOP',\n",
       " 'FIRE',\n",
       " 'UP',\n",
       " 'RIGHT',\n",
       " 'LEFT',\n",
       " 'DOWN',\n",
       " 'UPRIGHT',\n",
       " 'UPLEFT',\n",
       " 'DOWNRIGHT',\n",
       " 'DOWNLEFT',\n",
       " 'UPFIRE',\n",
       " 'RIGHTFIRE',\n",
       " 'LEFTFIRE',\n",
       " 'DOWNFIRE',\n",
       " 'UPRIGHTFIRE',\n",
       " 'UPLEFTFIRE',\n",
       " 'DOWNRIGHTFIRE',\n",
       " 'DOWNLEFTFIRE']"
      ]
     },
     "execution_count": 14,
     "metadata": {},
     "output_type": "execute_result"
    }
   ],
   "source": [
    "env.unwrapped.get_action_meanings()"
   ]
  },
  {
   "cell_type": "markdown",
   "metadata": {},
   "source": [
    "#### Neural Network model objects for the Deep Q-Learning algorithm\n",
    "\n",
    "##### Here we instantiate the model objects. We will be working with two models: one for the **estimate** network and other for the **target** network. The **estimate** network computes Q-values for the executed actions and the **target** network computes Q-values for the expected Q-values."
   ]
  },
  {
   "cell_type": "code",
   "execution_count": 15,
   "metadata": {
    "ExecuteTime": {
     "end_time": "2020-06-10T00:40:25.665314Z",
     "start_time": "2020-06-10T00:40:23.171154Z"
    }
   },
   "outputs": [
    {
     "name": "stdout",
     "output_type": "stream",
     "text": [
      "DQNModel(\n",
      "  (conv): Sequential(\n",
      "    (0): Conv2d(4, 32, kernel_size=(8, 8), stride=(4, 4))\n",
      "    (1): ReLU()\n",
      "    (2): Conv2d(32, 64, kernel_size=(4, 4), stride=(2, 2))\n",
      "    (3): ReLU()\n",
      "    (4): Conv2d(64, 64, kernel_size=(3, 3), stride=(1, 1))\n",
      "    (5): ReLU()\n",
      "  )\n",
      "  (fc): Sequential(\n",
      "    (0): Linear(in_features=3136, out_features=512, bias=True)\n",
      "    (1): ReLU()\n",
      "    (2): Linear(in_features=512, out_features=18, bias=True)\n",
      "  )\n",
      ")\n",
      "Number of learnable parameters: 1693362\n"
     ]
    }
   ],
   "source": [
    "n_actions = len(action_space)\n",
    "\n",
    "lr = 0.00030\n",
    "alpha = 0.95\n",
    "\n",
    "policy_model = DQNModel().to(device)\n",
    "target_model = DQNModel().to(device)\n",
    "target_model.load_state_dict(policy_model.state_dict())\n",
    "\n",
    "optimizer = torch.optim.RMSprop(policy_model.parameters(), lr=lr, alpha=alpha)\n",
    "\n",
    "def count_parameters(model):\n",
    "    return sum(p.numel() for p in model.parameters() if p.requires_grad)\n",
    "\n",
    "print(policy_model)\n",
    "print(\"Number of learnable parameters: %d\" % count_parameters(policy_model))"
   ]
  },
  {
   "cell_type": "markdown",
   "metadata": {},
   "source": [
    "#### Agent parameters\n",
    "\n",
    "##### Here we define the macro parameters used by the agent when interacting with the environment in the main training loop."
   ]
  },
  {
   "cell_type": "code",
   "execution_count": 16,
   "metadata": {
    "ExecuteTime": {
     "end_time": "2020-06-10T00:40:25.674263Z",
     "start_time": "2020-06-10T00:40:25.668280Z"
    }
   },
   "outputs": [],
   "source": [
    "max_episodes = 100000\n",
    "batch_size = 32\n",
    "target_update = 5000\n",
    "gamma = 0.99\n",
    "rep_buf_size = 250000\n",
    "rep_buf_ini = 25000\n",
    "skip_frame = 4"
   ]
  },
  {
   "cell_type": "markdown",
   "metadata": {},
   "source": [
    "#### Epsilon-Greedy exploration\n",
    "\n",
    "##### We use an annealing scheme for decreasing the **epsilon** parameter, which controls the exploration vs exploitation tradeoff during training. The idea is to allow the agent to explore a lot in the beginning and then making it to choose more “ informed” actions as the model converges."
   ]
  },
  {
   "cell_type": "code",
   "execution_count": 9,
   "metadata": {
    "ExecuteTime": {
     "end_time": "2020-06-10T00:39:27.625138Z",
     "start_time": "2020-06-10T00:39:22.152608Z"
    }
   },
   "outputs": [
    {
     "data": {
      "text/plain": [
       "[<matplotlib.lines.Line2D at 0x1a797351148>]"
      ]
     },
     "execution_count": 9,
     "metadata": {},
     "output_type": "execute_result"
    },
    {
     "data": {
      "image/png": "[encoded data removed]",
      "text/plain": [
       "<Figure size 432x288 with 1 Axes>"
      ]
     },
     "metadata": {
      "needs_background": "light"
     },
     "output_type": "display_data"
    }
   ],
   "source": [
    "epsilon_start = 1.0\n",
    "epsilon_final = 0.1\n",
    "epsilon_decay = 400000\n",
    "\n",
    "epsilon_by_frame = lambda step_idx: epsilon_final + (epsilon_start - epsilon_final) * math.exp(-1. * step_idx / epsilon_decay)\n",
    "\n",
    "plt.plot([epsilon_by_frame(i) for i in range(7500000)])"
   ]
  },
  {
   "cell_type": "markdown",
   "metadata": {},
   "source": [
    "#### The Experience Replay buffer\n",
    "\n",
    "##### Here we define the experience replay buffer, which allows the agent to store tuples of (state, action, reward, next state, done), which are the experiences it collects when interacting with the game environment. This buffer has a fixed capacity (in number of tuples), so that when maximum capacity is reached the oldest tuple is removed so that a new one can be inserted.\n",
    "\n",
    "##### This buffer also has a method for the agent to sample experiences at random in order to construct mini-batches of experiences used to train the neural network model."
   ]
  },
  {
   "cell_type": "code",
   "execution_count": 21,
   "metadata": {
    "ExecuteTime": {
     "end_time": "2020-06-09T11:07:22.029141Z",
     "start_time": "2020-06-09T11:07:22.020166Z"
    }
   },
   "outputs": [],
   "source": [
    "class ReplayBuffer(object):\n",
    "    def __init__(self, capacity):\n",
    "        self.buffer = deque(maxlen=capacity)\n",
    "    \n",
    "    def push(self, state, action, reward, next_state, done):\n",
    "        self.buffer.append([state, action, reward, next_state, done])\n",
    "    \n",
    "    def sample(self, batch_size):\n",
    "        state, action, reward, next_state, done = zip(*random.sample(self.buffer, batch_size))\n",
    "        return state, action, reward, next_state, done\n",
    "    \n",
    "    def __len__(self):\n",
    "        return len(self.buffer)"
   ]
  },
  {
   "cell_type": "markdown",
   "metadata": {},
   "source": [
    "#### Huber Loss\n",
    "\n",
    "##### Here we implement the Huber loss function, which makes gradient updates smoother because it makes the network less sensitive to large errors than the loss function based on the Mean Squared Error."
   ]
  },
  {
   "cell_type": "code",
   "execution_count": 22,
   "metadata": {
    "ExecuteTime": {
     "end_time": "2020-06-09T11:07:24.504523Z",
     "start_time": "2020-06-09T11:07:24.499535Z"
    }
   },
   "outputs": [],
   "source": [
    "def huber_loss(input, target, beta=1, size_average=True):\n",
    "    \"\"\"\n",
    "    very similar to the smooth_l1_loss from pytorch, but with\n",
    "    the extra beta parameter\n",
    "    \"\"\"\n",
    "    n = torch.abs(input - target)\n",
    "    cond = n < beta\n",
    "    loss = torch.where(cond, 0.5 * n ** 2 / beta, n - 0.5 * beta)\n",
    "    if size_average:\n",
    "        return loss.mean()\n",
    "    return loss.sum()"
   ]
  },
  {
   "cell_type": "markdown",
   "metadata": {},
   "source": [
    "#### Experience Replay buffer Initialization\n",
    "\n",
    "##### We initialize the Experience Replay buffer to its entire capacity with random playing"
   ]
  },
  {
   "cell_type": "code",
   "execution_count": 23,
   "metadata": {
    "ExecuteTime": {
     "end_time": "2020-06-09T11:07:28.699305Z",
     "start_time": "2020-06-09T11:07:26.656767Z"
    }
   },
   "outputs": [
    {
     "name": "stdout",
     "output_type": "stream",
     "text": [
      "Experience Replay buffer initialized\n"
     ]
    }
   ],
   "source": [
    "replay_buffer = ReplayBuffer(rep_buf_size)\n",
    "\n",
    "while len(replay_buffer) < rep_buf_ini:\n",
    "    \n",
    "    observation = env.reset()\n",
    "    done = False\n",
    "    \n",
    "    while not done:\n",
    "\n",
    "        with torch.no_grad():\n",
    "            t_observation = torch.from_numpy(observation).float().to(device)\n",
    "            t_observation = t_observation.view(1, t_observation.shape[0], t_observation.shape[1], t_observation.shape[2])\n",
    "            action = random.sample(range(len(action_space)), 1)[0]\n",
    "        \n",
    "        next_observation, reward, done, info = env.step(action_space[action])\n",
    "            \n",
    "        replay_buffer.push(observation, action, reward, next_observation, done)\n",
    "        observation = next_observation\n",
    "        \n",
    "print('Experience Replay buffer initialized')"
   ]
  },
  {
   "cell_type": "markdown",
   "metadata": {},
   "source": [
    "#### Logging"
   ]
  },
  {
   "cell_type": "code",
   "execution_count": 24,
   "metadata": {
    "ExecuteTime": {
     "end_time": "2020-06-09T11:07:32.224905Z",
     "start_time": "2020-06-09T11:07:32.216900Z"
    }
   },
   "outputs": [],
   "source": [
    "logger = logging.getLogger('dqn_spaceinvaders')\n",
    "logger.setLevel(logging.INFO)\n",
    "logger_handler = logging.FileHandler('./data/dqn_spaceinvaders.log')\n",
    "logger.addHandler(logger_handler)"
   ]
  },
  {
   "cell_type": "markdown",
   "metadata": {},
   "source": [
    "#### Agent training loop\n",
    "\n",
    "##### Here we train the agent for a fixed number of episodes. For each episode, the agent keeps track of the current observation, selects and execute an action and collect feedback from the game environment which are the next observation, the immediate reward received, and a flag indicating if the game is done or not and inserts this experience in the buffer.\n",
    "\n",
    "##### For our Space Invaders game in the Atari environment, we consider one episode complete after the agent loses one of its 3 available lives.\n",
    "\n",
    "##### After each **skip_frame** number of game frames played, we update the agent policy, which is the Deep Q-Network that computes the Q-Value estimates, by sampling a mini-batch of experiences from the buffer and updating the network parameters. We also update the target network after a **target_update** fixed number of game frames.\n",
    "\n",
    "##### Finally, we plot and log the average score in the game so far, across the latest 100 game episodes. We also save these scores to be plotted later. And we save the model dictionary to disk each 1000 episodes."
   ]
  },
  {
   "cell_type": "markdown",
   "metadata": {},
   "source": [
    "## For continue Training"
   ]
  },
  {
   "cell_type": "code",
   "execution_count": 19,
   "metadata": {
    "ExecuteTime": {
     "end_time": "2020-06-09T10:00:42.157546Z",
     "start_time": "2020-06-09T10:00:42.153517Z"
    }
   },
   "outputs": [],
   "source": [
    "episode_score = []\n",
    "mean_episode_score = []"
   ]
  },
  {
   "cell_type": "code",
   "execution_count": 25,
   "metadata": {
    "ExecuteTime": {
     "end_time": "2020-06-09T11:08:11.820998Z",
     "start_time": "2020-06-09T11:07:50.879994Z"
    },
    "scrolled": true
   },
   "outputs": [
    {
     "data": {
      "image/png": "[encoded data removed]",
      "text/plain": [
       "<Figure size 432x288 with 1 Axes>"
      ]
     },
     "metadata": {
      "needs_background": "light"
     },
     "output_type": "display_data"
    },
    {
     "ename": "KeyboardInterrupt",
     "evalue": "",
     "output_type": "error",
     "traceback": [
      "\u001b[1;31m---------------------------------------------------------------------------\u001b[0m",
      "\u001b[1;31mKeyboardInterrupt\u001b[0m                         Traceback (most recent call last)",
      "\u001b[1;32m<ipython-input-25-4c6d252f2f96>\u001b[0m in \u001b[0;36m<module>\u001b[1;34m\u001b[0m\n\u001b[0;32m     51\u001b[0m             \u001b[0mdones\u001b[0m \u001b[1;33m=\u001b[0m \u001b[0mdones\u001b[0m\u001b[1;33m.\u001b[0m\u001b[0mview\u001b[0m\u001b[1;33m(\u001b[0m\u001b[0mdones\u001b[0m\u001b[1;33m.\u001b[0m\u001b[0mshape\u001b[0m\u001b[1;33m[\u001b[0m\u001b[1;36m0\u001b[0m\u001b[1;33m]\u001b[0m\u001b[1;33m,\u001b[0m \u001b[1;36m1\u001b[0m\u001b[1;33m)\u001b[0m\u001b[1;33m\u001b[0m\u001b[1;33m\u001b[0m\u001b[0m\n\u001b[0;32m     52\u001b[0m \u001b[1;33m\u001b[0m\u001b[0m\n\u001b[1;32m---> 53\u001b[1;33m             \u001b[0mq_values\u001b[0m \u001b[1;33m=\u001b[0m \u001b[0mpolicy_model\u001b[0m\u001b[1;33m(\u001b[0m\u001b[0mobservations\u001b[0m\u001b[1;33m)\u001b[0m\u001b[1;33m\u001b[0m\u001b[1;33m\u001b[0m\u001b[0m\n\u001b[0m\u001b[0;32m     54\u001b[0m             \u001b[0mnext_q_values\u001b[0m \u001b[1;33m=\u001b[0m \u001b[0mtarget_model\u001b[0m\u001b[1;33m(\u001b[0m\u001b[0mnext_observations\u001b[0m\u001b[1;33m)\u001b[0m\u001b[1;33m\u001b[0m\u001b[1;33m\u001b[0m\u001b[0m\n\u001b[0;32m     55\u001b[0m \u001b[1;33m\u001b[0m\u001b[0m\n",
      "\u001b[1;32mC:\\ProgramData\\Anaconda3\\lib\\site-packages\\torch\\nn\\modules\\module.py\u001b[0m in \u001b[0;36m__call__\u001b[1;34m(self, *input, **kwargs)\u001b[0m\n\u001b[0;32m    548\u001b[0m             \u001b[0mresult\u001b[0m \u001b[1;33m=\u001b[0m \u001b[0mself\u001b[0m\u001b[1;33m.\u001b[0m\u001b[0m_slow_forward\u001b[0m\u001b[1;33m(\u001b[0m\u001b[1;33m*\u001b[0m\u001b[0minput\u001b[0m\u001b[1;33m,\u001b[0m \u001b[1;33m**\u001b[0m\u001b[0mkwargs\u001b[0m\u001b[1;33m)\u001b[0m\u001b[1;33m\u001b[0m\u001b[1;33m\u001b[0m\u001b[0m\n\u001b[0;32m    549\u001b[0m         \u001b[1;32melse\u001b[0m\u001b[1;33m:\u001b[0m\u001b[1;33m\u001b[0m\u001b[1;33m\u001b[0m\u001b[0m\n\u001b[1;32m--> 550\u001b[1;33m             \u001b[0mresult\u001b[0m \u001b[1;33m=\u001b[0m \u001b[0mself\u001b[0m\u001b[1;33m.\u001b[0m\u001b[0mforward\u001b[0m\u001b[1;33m(\u001b[0m\u001b[1;33m*\u001b[0m\u001b[0minput\u001b[0m\u001b[1;33m,\u001b[0m \u001b[1;33m**\u001b[0m\u001b[0mkwargs\u001b[0m\u001b[1;33m)\u001b[0m\u001b[1;33m\u001b[0m\u001b[1;33m\u001b[0m\u001b[0m\n\u001b[0m\u001b[0;32m    551\u001b[0m         \u001b[1;32mfor\u001b[0m \u001b[0mhook\u001b[0m \u001b[1;32min\u001b[0m \u001b[0mself\u001b[0m\u001b[1;33m.\u001b[0m\u001b[0m_forward_hooks\u001b[0m\u001b[1;33m.\u001b[0m\u001b[0mvalues\u001b[0m\u001b[1;33m(\u001b[0m\u001b[1;33m)\u001b[0m\u001b[1;33m:\u001b[0m\u001b[1;33m\u001b[0m\u001b[1;33m\u001b[0m\u001b[0m\n\u001b[0;32m    552\u001b[0m             \u001b[0mhook_result\u001b[0m \u001b[1;33m=\u001b[0m \u001b[0mhook\u001b[0m\u001b[1;33m(\u001b[0m\u001b[0mself\u001b[0m\u001b[1;33m,\u001b[0m \u001b[0minput\u001b[0m\u001b[1;33m,\u001b[0m \u001b[0mresult\u001b[0m\u001b[1;33m)\u001b[0m\u001b[1;33m\u001b[0m\u001b[1;33m\u001b[0m\u001b[0m\n",
      "\u001b[1;32m<ipython-input-13-fd7862965bfb>\u001b[0m in \u001b[0;36mforward\u001b[1;34m(self, obs)\u001b[0m\n\u001b[0;32m      9\u001b[0m \u001b[1;33m\u001b[0m\u001b[0m\n\u001b[0;32m     10\u001b[0m     \u001b[1;32mdef\u001b[0m \u001b[0mforward\u001b[0m\u001b[1;33m(\u001b[0m\u001b[0mself\u001b[0m\u001b[1;33m,\u001b[0m \u001b[0mobs\u001b[0m\u001b[1;33m)\u001b[0m\u001b[1;33m:\u001b[0m\u001b[1;33m\u001b[0m\u001b[1;33m\u001b[0m\u001b[0m\n\u001b[1;32m---> 11\u001b[1;33m         \u001b[0mobs\u001b[0m \u001b[1;33m=\u001b[0m \u001b[0mself\u001b[0m\u001b[1;33m.\u001b[0m\u001b[0mconv\u001b[0m\u001b[1;33m(\u001b[0m\u001b[0mobs\u001b[0m\u001b[1;33m)\u001b[0m\u001b[1;33m\u001b[0m\u001b[1;33m\u001b[0m\u001b[0m\n\u001b[0m\u001b[0;32m     12\u001b[0m         \u001b[0mobs\u001b[0m \u001b[1;33m=\u001b[0m \u001b[0mobs\u001b[0m\u001b[1;33m.\u001b[0m\u001b[0mview\u001b[0m\u001b[1;33m(\u001b[0m\u001b[0mobs\u001b[0m\u001b[1;33m.\u001b[0m\u001b[0mshape\u001b[0m\u001b[1;33m[\u001b[0m\u001b[1;36m0\u001b[0m\u001b[1;33m]\u001b[0m\u001b[1;33m,\u001b[0m \u001b[0mobs\u001b[0m\u001b[1;33m.\u001b[0m\u001b[0mshape\u001b[0m\u001b[1;33m[\u001b[0m\u001b[1;36m1\u001b[0m\u001b[1;33m]\u001b[0m \u001b[1;33m*\u001b[0m \u001b[0mobs\u001b[0m\u001b[1;33m.\u001b[0m\u001b[0mshape\u001b[0m\u001b[1;33m[\u001b[0m\u001b[1;36m2\u001b[0m\u001b[1;33m]\u001b[0m \u001b[1;33m*\u001b[0m \u001b[0mobs\u001b[0m\u001b[1;33m.\u001b[0m\u001b[0mshape\u001b[0m\u001b[1;33m[\u001b[0m\u001b[1;36m3\u001b[0m\u001b[1;33m]\u001b[0m\u001b[1;33m)\u001b[0m\u001b[1;33m\u001b[0m\u001b[1;33m\u001b[0m\u001b[0m\n\u001b[0;32m     13\u001b[0m         \u001b[0mactions\u001b[0m \u001b[1;33m=\u001b[0m \u001b[0mself\u001b[0m\u001b[1;33m.\u001b[0m\u001b[0mfc\u001b[0m\u001b[1;33m(\u001b[0m\u001b[0mobs\u001b[0m\u001b[1;33m)\u001b[0m\u001b[1;33m\u001b[0m\u001b[1;33m\u001b[0m\u001b[0m\n",
      "\u001b[1;32mC:\\ProgramData\\Anaconda3\\lib\\site-packages\\torch\\nn\\modules\\module.py\u001b[0m in \u001b[0;36m__call__\u001b[1;34m(self, *input, **kwargs)\u001b[0m\n\u001b[0;32m    548\u001b[0m             \u001b[0mresult\u001b[0m \u001b[1;33m=\u001b[0m \u001b[0mself\u001b[0m\u001b[1;33m.\u001b[0m\u001b[0m_slow_forward\u001b[0m\u001b[1;33m(\u001b[0m\u001b[1;33m*\u001b[0m\u001b[0minput\u001b[0m\u001b[1;33m,\u001b[0m \u001b[1;33m**\u001b[0m\u001b[0mkwargs\u001b[0m\u001b[1;33m)\u001b[0m\u001b[1;33m\u001b[0m\u001b[1;33m\u001b[0m\u001b[0m\n\u001b[0;32m    549\u001b[0m         \u001b[1;32melse\u001b[0m\u001b[1;33m:\u001b[0m\u001b[1;33m\u001b[0m\u001b[1;33m\u001b[0m\u001b[0m\n\u001b[1;32m--> 550\u001b[1;33m             \u001b[0mresult\u001b[0m \u001b[1;33m=\u001b[0m \u001b[0mself\u001b[0m\u001b[1;33m.\u001b[0m\u001b[0mforward\u001b[0m\u001b[1;33m(\u001b[0m\u001b[1;33m*\u001b[0m\u001b[0minput\u001b[0m\u001b[1;33m,\u001b[0m \u001b[1;33m**\u001b[0m\u001b[0mkwargs\u001b[0m\u001b[1;33m)\u001b[0m\u001b[1;33m\u001b[0m\u001b[1;33m\u001b[0m\u001b[0m\n\u001b[0m\u001b[0;32m    551\u001b[0m         \u001b[1;32mfor\u001b[0m \u001b[0mhook\u001b[0m \u001b[1;32min\u001b[0m \u001b[0mself\u001b[0m\u001b[1;33m.\u001b[0m\u001b[0m_forward_hooks\u001b[0m\u001b[1;33m.\u001b[0m\u001b[0mvalues\u001b[0m\u001b[1;33m(\u001b[0m\u001b[1;33m)\u001b[0m\u001b[1;33m:\u001b[0m\u001b[1;33m\u001b[0m\u001b[1;33m\u001b[0m\u001b[0m\n\u001b[0;32m    552\u001b[0m             \u001b[0mhook_result\u001b[0m \u001b[1;33m=\u001b[0m \u001b[0mhook\u001b[0m\u001b[1;33m(\u001b[0m\u001b[0mself\u001b[0m\u001b[1;33m,\u001b[0m \u001b[0minput\u001b[0m\u001b[1;33m,\u001b[0m \u001b[0mresult\u001b[0m\u001b[1;33m)\u001b[0m\u001b[1;33m\u001b[0m\u001b[1;33m\u001b[0m\u001b[0m\n",
      "\u001b[1;32mC:\\ProgramData\\Anaconda3\\lib\\site-packages\\torch\\nn\\modules\\container.py\u001b[0m in \u001b[0;36mforward\u001b[1;34m(self, input)\u001b[0m\n\u001b[0;32m     98\u001b[0m     \u001b[1;32mdef\u001b[0m \u001b[0mforward\u001b[0m\u001b[1;33m(\u001b[0m\u001b[0mself\u001b[0m\u001b[1;33m,\u001b[0m \u001b[0minput\u001b[0m\u001b[1;33m)\u001b[0m\u001b[1;33m:\u001b[0m\u001b[1;33m\u001b[0m\u001b[1;33m\u001b[0m\u001b[0m\n\u001b[0;32m     99\u001b[0m         \u001b[1;32mfor\u001b[0m \u001b[0mmodule\u001b[0m \u001b[1;32min\u001b[0m \u001b[0mself\u001b[0m\u001b[1;33m:\u001b[0m\u001b[1;33m\u001b[0m\u001b[1;33m\u001b[0m\u001b[0m\n\u001b[1;32m--> 100\u001b[1;33m             \u001b[0minput\u001b[0m \u001b[1;33m=\u001b[0m \u001b[0mmodule\u001b[0m\u001b[1;33m(\u001b[0m\u001b[0minput\u001b[0m\u001b[1;33m)\u001b[0m\u001b[1;33m\u001b[0m\u001b[1;33m\u001b[0m\u001b[0m\n\u001b[0m\u001b[0;32m    101\u001b[0m         \u001b[1;32mreturn\u001b[0m \u001b[0minput\u001b[0m\u001b[1;33m\u001b[0m\u001b[1;33m\u001b[0m\u001b[0m\n\u001b[0;32m    102\u001b[0m \u001b[1;33m\u001b[0m\u001b[0m\n",
      "\u001b[1;32mC:\\ProgramData\\Anaconda3\\lib\\site-packages\\torch\\nn\\modules\\module.py\u001b[0m in \u001b[0;36m__call__\u001b[1;34m(self, *input, **kwargs)\u001b[0m\n\u001b[0;32m    548\u001b[0m             \u001b[0mresult\u001b[0m \u001b[1;33m=\u001b[0m \u001b[0mself\u001b[0m\u001b[1;33m.\u001b[0m\u001b[0m_slow_forward\u001b[0m\u001b[1;33m(\u001b[0m\u001b[1;33m*\u001b[0m\u001b[0minput\u001b[0m\u001b[1;33m,\u001b[0m \u001b[1;33m**\u001b[0m\u001b[0mkwargs\u001b[0m\u001b[1;33m)\u001b[0m\u001b[1;33m\u001b[0m\u001b[1;33m\u001b[0m\u001b[0m\n\u001b[0;32m    549\u001b[0m         \u001b[1;32melse\u001b[0m\u001b[1;33m:\u001b[0m\u001b[1;33m\u001b[0m\u001b[1;33m\u001b[0m\u001b[0m\n\u001b[1;32m--> 550\u001b[1;33m             \u001b[0mresult\u001b[0m \u001b[1;33m=\u001b[0m \u001b[0mself\u001b[0m\u001b[1;33m.\u001b[0m\u001b[0mforward\u001b[0m\u001b[1;33m(\u001b[0m\u001b[1;33m*\u001b[0m\u001b[0minput\u001b[0m\u001b[1;33m,\u001b[0m \u001b[1;33m**\u001b[0m\u001b[0mkwargs\u001b[0m\u001b[1;33m)\u001b[0m\u001b[1;33m\u001b[0m\u001b[1;33m\u001b[0m\u001b[0m\n\u001b[0m\u001b[0;32m    551\u001b[0m         \u001b[1;32mfor\u001b[0m \u001b[0mhook\u001b[0m \u001b[1;32min\u001b[0m \u001b[0mself\u001b[0m\u001b[1;33m.\u001b[0m\u001b[0m_forward_hooks\u001b[0m\u001b[1;33m.\u001b[0m\u001b[0mvalues\u001b[0m\u001b[1;33m(\u001b[0m\u001b[1;33m)\u001b[0m\u001b[1;33m:\u001b[0m\u001b[1;33m\u001b[0m\u001b[1;33m\u001b[0m\u001b[0m\n\u001b[0;32m    552\u001b[0m             \u001b[0mhook_result\u001b[0m \u001b[1;33m=\u001b[0m \u001b[0mhook\u001b[0m\u001b[1;33m(\u001b[0m\u001b[0mself\u001b[0m\u001b[1;33m,\u001b[0m \u001b[0minput\u001b[0m\u001b[1;33m,\u001b[0m \u001b[0mresult\u001b[0m\u001b[1;33m)\u001b[0m\u001b[1;33m\u001b[0m\u001b[1;33m\u001b[0m\u001b[0m\n",
      "\u001b[1;32mC:\\ProgramData\\Anaconda3\\lib\\site-packages\\torch\\nn\\modules\\conv.py\u001b[0m in \u001b[0;36mforward\u001b[1;34m(self, input)\u001b[0m\n\u001b[0;32m    347\u001b[0m \u001b[1;33m\u001b[0m\u001b[0m\n\u001b[0;32m    348\u001b[0m     \u001b[1;32mdef\u001b[0m \u001b[0mforward\u001b[0m\u001b[1;33m(\u001b[0m\u001b[0mself\u001b[0m\u001b[1;33m,\u001b[0m \u001b[0minput\u001b[0m\u001b[1;33m)\u001b[0m\u001b[1;33m:\u001b[0m\u001b[1;33m\u001b[0m\u001b[1;33m\u001b[0m\u001b[0m\n\u001b[1;32m--> 349\u001b[1;33m         \u001b[1;32mreturn\u001b[0m \u001b[0mself\u001b[0m\u001b[1;33m.\u001b[0m\u001b[0m_conv_forward\u001b[0m\u001b[1;33m(\u001b[0m\u001b[0minput\u001b[0m\u001b[1;33m,\u001b[0m \u001b[0mself\u001b[0m\u001b[1;33m.\u001b[0m\u001b[0mweight\u001b[0m\u001b[1;33m)\u001b[0m\u001b[1;33m\u001b[0m\u001b[1;33m\u001b[0m\u001b[0m\n\u001b[0m\u001b[0;32m    350\u001b[0m \u001b[1;33m\u001b[0m\u001b[0m\n\u001b[0;32m    351\u001b[0m \u001b[1;32mclass\u001b[0m \u001b[0mConv3d\u001b[0m\u001b[1;33m(\u001b[0m\u001b[0m_ConvNd\u001b[0m\u001b[1;33m)\u001b[0m\u001b[1;33m:\u001b[0m\u001b[1;33m\u001b[0m\u001b[1;33m\u001b[0m\u001b[0m\n",
      "\u001b[1;32mC:\\ProgramData\\Anaconda3\\lib\\site-packages\\torch\\nn\\modules\\conv.py\u001b[0m in \u001b[0;36m_conv_forward\u001b[1;34m(self, input, weight)\u001b[0m\n\u001b[0;32m    344\u001b[0m                             _pair(0), self.dilation, self.groups)\n\u001b[0;32m    345\u001b[0m         return F.conv2d(input, weight, self.bias, self.stride,\n\u001b[1;32m--> 346\u001b[1;33m                         self.padding, self.dilation, self.groups)\n\u001b[0m\u001b[0;32m    347\u001b[0m \u001b[1;33m\u001b[0m\u001b[0m\n\u001b[0;32m    348\u001b[0m     \u001b[1;32mdef\u001b[0m \u001b[0mforward\u001b[0m\u001b[1;33m(\u001b[0m\u001b[0mself\u001b[0m\u001b[1;33m,\u001b[0m \u001b[0minput\u001b[0m\u001b[1;33m)\u001b[0m\u001b[1;33m:\u001b[0m\u001b[1;33m\u001b[0m\u001b[1;33m\u001b[0m\u001b[0m\n",
      "\u001b[1;31mKeyboardInterrupt\u001b[0m: "
     ]
    }
   ],
   "source": [
    "episode_score = []\n",
    "mean_episode_score = []\n",
    "TAU = 2e-3\n",
    "\n",
    "num_frames = 0\n",
    "episode = 0\n",
    "score = 0\n",
    "\n",
    "while episode < max_episodes:\n",
    "    \n",
    "    observation = env.reset()\n",
    "    done = False\n",
    "    #import time\n",
    "    #start=time.time()\n",
    "    \n",
    "    while not done:\n",
    "\n",
    "        with torch.no_grad():\n",
    "\n",
    "            t_observation = torch.from_numpy(observation).float().to(device) / 255\n",
    "            t_observation = t_observation.view(1, t_observation.shape[0], t_observation.shape[1], t_observation.shape[2])\n",
    "            epsilon = epsilon_by_frame(num_frames)\n",
    "            if random.random() > epsilon:\n",
    "                q_value = policy_model(t_observation)\n",
    "                action = q_value.argmax(1).data.cpu().numpy().astype(int)[0]\n",
    "            else:\n",
    "                action = random.sample(range(len(action_space)), 1)[0]\n",
    "        \n",
    "        next_observation, reward, done, info = env.step(action_space[action])\n",
    "        num_frames += 1\n",
    "        score += reward\n",
    "            \n",
    "        replay_buffer.push(observation, action, reward, next_observation, done)\n",
    "        observation = next_observation\n",
    "        \n",
    "        # Update policy\n",
    "        if len(replay_buffer) > batch_size and num_frames % skip_frame == 0:\n",
    "            observations, actions, rewards, next_observations, dones = replay_buffer.sample(batch_size)          \n",
    "\n",
    "            observations = torch.from_numpy(np.array(observations) / 255).float().to(device)\n",
    "            \n",
    "            actions = torch.from_numpy(np.array(actions).astype(int)).float().to(device)\n",
    "            actions = actions.view(actions.shape[0], 1)\n",
    "            \n",
    "            rewards = torch.from_numpy(np.array(rewards)).float().to(device)\n",
    "            rewards = rewards.view(rewards.shape[0], 1)\n",
    "            \n",
    "            next_observations = torch.from_numpy(np.array(next_observations) / 255).float().to(device)\n",
    "            \n",
    "            dones = torch.from_numpy(np.array(dones).astype(int)).float().to(device)\n",
    "            dones = dones.view(dones.shape[0], 1)\n",
    "            \n",
    "            q_values = policy_model(observations)\n",
    "            next_q_values = target_model(next_observations)\n",
    "\n",
    "            q_value = q_values.gather(1, actions.long())\n",
    "            next_q_value = next_q_values.max(1)[0].unsqueeze(1)\n",
    "            expected_q_value = rewards + gamma * next_q_value * (1 - dones)\n",
    "\n",
    "            loss = huber_loss(q_value, expected_q_value)\n",
    "\n",
    "            optimizer.zero_grad()\n",
    "            loss.backward()\n",
    "            \n",
    "            optimizer.step()\n",
    "            \n",
    "            for target_param, policy_param in zip(target_model.parameters(),policy_model.parameters()):\n",
    "                target_param.data.copy_(TAU*policy_param.data + (1-TAU)*target_param.data)\n",
    "            \n",
    "        \n",
    "    \n",
    "    episode += 1\n",
    "    episode_score.append(score)\n",
    "    #end=time.time()\n",
    "    #print(\"Running time ( %i episode): %.3f Seconds \"%(episode ,end-start))\n",
    "    \n",
    "    if info['ale.lives'] == 0:\n",
    "        score = 0\n",
    "    \n",
    "    if episode % 20 == 0:\n",
    "        mean_score = np.mean(episode_score)\n",
    "        mean_episode_score.append(mean_score)\n",
    "        episode_score = []\n",
    "        logger.info('Frame: ' + str(num_frames) + ' / Episode: ' + str(episode) + ' / Average Score (over last 20 episodes): ' + str(int(mean_score)))\n",
    "        plot_score(mean_episode_score, episode)\n",
    "        pickle.dump(mean_episode_score, open('./data/dqn_spaceinvaders_mean_scores.pickle', 'wb'))\n",
    "        \n",
    "    if episode % 50 == 0:\n",
    "        torch.save(policy_model.state_dict(), './data/dqn_spaceinvaders_model_state_dict.pt')"
   ]
  },
  {
   "cell_type": "markdown",
   "metadata": {},
   "source": [
    "#### Loading and plotting the curve of the average score each 100 episodes for a trained policy over 12,000 episodes"
   ]
  },
  {
   "cell_type": "code",
   "execution_count": 10,
   "metadata": {
    "ExecuteTime": {
     "end_time": "2020-06-10T00:40:08.426420Z",
     "start_time": "2020-06-10T00:40:08.067299Z"
    }
   },
   "outputs": [
    {
     "data": {
      "image/png": "[encoded data removed]",
      "text/plain": [
       "<Figure size 432x288 with 1 Axes>"
      ]
     },
     "metadata": {
      "needs_background": "light"
     },
     "output_type": "display_data"
    }
   ],
   "source": [
    "mean_episode_score = pickle.load(open('./data/dqn_spaceinvaders_mean_scores.pickle', \"rb\"))\n",
    "\n",
    "plot_score(mean_episode_score, 12000)"
   ]
  },
  {
   "cell_type": "markdown",
   "metadata": {},
   "source": [
    "#### Loading the network parameters of the trained policy"
   ]
  },
  {
   "cell_type": "code",
   "execution_count": 17,
   "metadata": {
    "ExecuteTime": {
     "end_time": "2020-06-10T00:40:38.727981Z",
     "start_time": "2020-06-10T00:40:38.628245Z"
    }
   },
   "outputs": [
    {
     "data": {
      "text/plain": [
       "DQNModel(\n",
       "  (conv): Sequential(\n",
       "    (0): Conv2d(4, 32, kernel_size=(8, 8), stride=(4, 4))\n",
       "    (1): ReLU()\n",
       "    (2): Conv2d(32, 64, kernel_size=(4, 4), stride=(2, 2))\n",
       "    (3): ReLU()\n",
       "    (4): Conv2d(64, 64, kernel_size=(3, 3), stride=(1, 1))\n",
       "    (5): ReLU()\n",
       "  )\n",
       "  (fc): Sequential(\n",
       "    (0): Linear(in_features=3136, out_features=512, bias=True)\n",
       "    (1): ReLU()\n",
       "    (2): Linear(in_features=512, out_features=18, bias=True)\n",
       "  )\n",
       ")"
      ]
     },
     "execution_count": 17,
     "metadata": {},
     "output_type": "execute_result"
    }
   ],
   "source": [
    "policy_model = DQNModel().to(device)\n",
    "policy_model.load_state_dict(torch.load('./data/dqn_spaceinvaders_model_state_dict.pt'))\n",
    "policy_model.eval()"
   ]
  },
  {
   "cell_type": "markdown",
   "metadata": {},
   "source": [
    "#### Loading the game environment"
   ]
  },
  {
   "cell_type": "code",
   "execution_count": 18,
   "metadata": {
    "ExecuteTime": {
     "end_time": "2020-06-10T00:40:41.045500Z",
     "start_time": "2020-06-10T00:40:40.034164Z"
    }
   },
   "outputs": [],
   "source": [
    "env = atari_wrappers.make_atari('RiverraidNoFrameskip-v4')\n",
    "env = atari_wrappers.wrap_deepmind(env, clip_rewards=True, frame_stack=True, pytorch_img=True)"
   ]
  },
  {
   "cell_type": "markdown",
   "metadata": {},
   "source": [
    "#### Playing the game with a trained agent\n",
    "\n",
    "##### Here we test a trained agent in a loop like the training loop defined before, except that here we choose the action in a greedily manner and don’t store experiences in the buffer neither update the policy parameters.\n",
    "\n",
    "##### We run the loop for 3 episodes, corresponding to the 3 available lives in one game play."
   ]
  },
  {
   "cell_type": "code",
   "execution_count": 19,
   "metadata": {
    "ExecuteTime": {
     "end_time": "2020-06-10T00:42:25.210961Z",
     "start_time": "2020-06-10T00:40:45.474116Z"
    }
   },
   "outputs": [
    {
     "data": {
      "image/png": "[encoded data removed]",
      "text/plain": [
       "<Figure size 432x648 with 1 Axes>"
      ]
     },
     "metadata": {
      "needs_background": "light"
     },
     "output_type": "display_data"
    }
   ],
   "source": [
    "num_episodes = 4\n",
    "episode = 1\n",
    "\n",
    "plt.figure(figsize = (6,9))\n",
    "img = plt.imshow(env.render(mode='rgb_array'))\n",
    "\n",
    "while episode <= num_episodes:\n",
    "    \n",
    "    observation = env.reset()\n",
    "    score = 0\n",
    "    done = False\n",
    "    episode += 1\n",
    "    \n",
    "    while not done:\n",
    "        img.set_data(env.render(mode='rgb_array'))\n",
    "        display.display(plt.gcf())\n",
    "        display.clear_output(wait=True)\n",
    "        \n",
    "        with torch.no_grad():\n",
    "\n",
    "            t_observation = torch.from_numpy(observation).float().to(device) / 255\n",
    "            t_observation = t_observation.view(1, t_observation.shape[0], t_observation.shape[1], t_observation.shape[2])\n",
    "            q_value = policy_model(t_observation)\n",
    "            action = q_value.argmax(1).data.cpu().numpy().astype(int)[0]\n",
    "        \n",
    "        next_observation, reward, done, info = env.step(action_space[action])\n",
    "        \n",
    "        observation = next_observation"
   ]
  },
  {
   "cell_type": "markdown",
   "metadata": {},
   "source": [
    "#### Playing the game with a random agent\n",
    "\n",
    "##### We define here a random agent just as a baseline to compare to trained agents. As the name suggests, this agent executes random actions in the environment. Those actions are chosen randomly from the set of actions available to the game environment."
   ]
  },
  {
   "cell_type": "code",
   "execution_count": 27,
   "metadata": {},
   "outputs": [
    {
     "data": {
      "image/png": "[encoded data removed]",
      "text/plain": [
       "<Figure size 432x648 with 1 Axes>"
      ]
     },
     "metadata": {
      "needs_background": "light"
     },
     "output_type": "display_data"
    }
   ],
   "source": [
    "num_episodes = 10\n",
    "episode = 1\n",
    "\n",
    "plt.figure(figsize = (6,9))\n",
    "img = plt.imshow(env.render(mode='rgb_array'))\n",
    "\n",
    "while episode <= num_episodes:\n",
    "    \n",
    "    observation = env.reset()\n",
    "    score = 0\n",
    "    done = False\n",
    "    episode += 1\n",
    "    \n",
    "    while not done:\n",
    "        img.set_data(env.render(mode='rgb_array'))\n",
    "        display.display(plt.gcf())\n",
    "        display.clear_output(wait=True)\n",
    "        \n",
    "        action = random.sample(range(len(action_space)), 1)[0]\n",
    "        \n",
    "        next_observation, reward, done, info = env.step(action_space[action])\n",
    "        \n",
    "        observation = next_observation"
   ]
  },
  {
   "cell_type": "code",
   "execution_count": null,
   "metadata": {},
   "outputs": [],
   "source": []
  }
 ],
 "metadata": {
  "kernelspec": {
   "display_name": "PyCharm (untitled)",
   "language": "python",
   "name": "pycharm-deebe7a9"
  },
  "language_info": {
   "codemirror_mode": {
    "name": "ipython",
    "version": 3
   },
   "file_extension": ".py",
   "mimetype": "text/x-python",
   "name": "python",
   "nbconvert_exporter": "python",
   "pygments_lexer": "ipython3",
   "version": "3.7.6"
  },
  "toc": {
   "base_numbering": 1,
   "nav_menu": {},
   "number_sections": true,
   "sideBar": true,
   "skip_h1_title": false,
   "title_cell": "Table of Contents",
   "title_sidebar": "Contents",
   "toc_cell": false,
   "toc_position": {},
   "toc_section_display": true,
   "toc_window_display": false
  }
 },
 "nbformat": 4,
 "nbformat_minor": 2
}
